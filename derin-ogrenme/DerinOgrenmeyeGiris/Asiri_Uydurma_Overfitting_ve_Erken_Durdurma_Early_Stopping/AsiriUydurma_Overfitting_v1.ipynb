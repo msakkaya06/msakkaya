{
  "nbformat": 4,
  "nbformat_minor": 0,
  "metadata": {
    "colab": {
      "name": "AsiriUydurma_Overfitting_v1.ipynb",
      "version": "0.3.2",
      "provenance": []
    },
    "kernelspec": {
      "name": "python3",
      "display_name": "Python 3"
    },
    "accelerator": "GPU"
  },
  "cells": [
    {
      "metadata": {
        "id": "8oYXN2WhxL6L",
        "colab_type": "text"
      },
      "cell_type": "markdown",
      "source": [
        "# Aşırı Uydurma ve Erken Durdurma\n",
        "Overfitting and Early Stopping\n",
        "\n",
        "\n",
        "---\n",
        "\n",
        "\n",
        "### Basit Bir Öğrenme Modelinde Aşırı Uydurma (Overfitting) Probleminin Çözümü: Erken Durdurma (Early Stopping)\n",
        "\n",
        "---\n",
        "\n",
        "Bunun için iki sınıflı rastgele değerlere sahip bir veri seti için basit bir çok katmanlı sinir ağı (Multi Layer Perceoptron) oluşturulmuştur. \n",
        "\n",
        "* Aktivasyon fonksiyonu olarak **ReLU** ve çıkış katmanında **Sigmoid** kullanılmıştır. Aktivasypn fonksiyonlarıyla ilgili daha kapsamlı bilgi için [**buraya**](https://github.com/ayyucekizrak/Udemy_DerinOgrenmeyeGiris/tree/master/Aktivasyon_Fonksiyonlarinin_Karsilastirilmasi) tıklayınız!\n",
        "\n",
        "* Hatayı minimize etmek için **Adam** optimizasyon algoritması kullanılmıştır. Optimizasyon algoritmaları hakkında daha kapsamlı bilgi için [**buraya**](https://github.com/ayyucekizrak/Udemy_DerinOgrenmeyeGiris/tree/master/Optimizasyon_Algoritmalarinin_Karsilastirilmasi) tıklayınız!\n",
        "\n",
        "* Tüm eğitim işlemi sonunda en iyi sonucun elde edildiği **epoch**'ta kaydedilen model ağırlıkları en iyi model ağırlıkları olarak **ModelCheckPoints** ile kaydedilmiştir.\n",
        "\n",
        "Hadi birlikte işlemleri nasıl yapmamız gerektiğine adım adım bakalım.\n",
        "\n",
        "\n",
        "---\n",
        "\n",
        "[Aynı çalışmanın MNIST veri seti örneğinde basit bir evrişimli sinir ağı modeli için hazırlanmış versiyonuna buradan ulaşabilirsiniz!](https://github.com/ayyucekizrak/Udemy_DerinOgrenmeyeGiris/blob/master/Asiri_Uydurma_Overfitting_ve_Erken_Durdurma_Early_Stopping/AsiriUydurma_Overfitting_v2.ipynb)\n",
        "\n",
        "---"
      ]
    },
    {
      "metadata": {
        "id": "fG0jaN_Ez_SG",
        "colab_type": "text"
      },
      "cell_type": "markdown",
      "source": [
        "# Aşırı Uydurma (Overfitting) Nedir?\n",
        "\n",
        "Tasarladığımız modele verilerimizi öğretmek için ve test etmek için iki parça halinde besleriz. Bazen öyle bir an gelir ki eğitim için ayırdığımız sette sürekli öğrenme hatası düşer ve biz de bu durumdan oldukça memnun bir şekilde test aşamasına geçeriz. Modelimizin hesapladığı öğrenilmiş ağırlıklar ile daha önce karşılaşmadığı test kümesi ile modeli beslediğimizde karşılaştığımız şey hüsran olabilir. Bu olayla karşılaşmanın bir çok sebebi olabilir ve sebeplere göre uygun çözümü bulmamız gerekir.\n",
        "\n",
        "[![image](https://i.hizliresim.com/5avYZR.png)](https://hizliresim.com/5avYZR)\n",
        "\n",
        "* Dengesiz veri kümesi dağılımı problemi olabilir\n",
        "* Eğitim, Geçerleme/Doğrulama ve Test kümelerimizi uygun şekilme bölmemiş olabiliriz\n",
        "* Epoch sayısı fazla seçilmiş olabilir\n",
        "* Eğitim kümemiz yanlı (bias) olabilir\n",
        "* Modelimiz gereğinden fazla karmaşık olabilir\n",
        "\n",
        "Tüm bunlar **aşırı uydurma** ya da **ezberleme** dediğimiz sorunu ortaya çıkarıyor olabilir. Özetle buna **BİAS**- **VARYANS** dengesi diyoruz.\n",
        "\n",
        "Modelimiz ne az ne çok karmaşık olmalı, yeterinde eğitilmiş olmalı, veri kümesi dağılımını doğru yapmalı ve gerçek hayatı temsil eder karmaşıklıkta olmalı.\n",
        "\n",
        "[![image](https://i.hizliresim.com/Bad8qg.png)](https://hizliresim.com/Bad8qg)\n",
        "\n",
        "### Çözüm: Erken Durdurma (Early Stopping)\n",
        "\n",
        "Ne zaman ki geçerleme/doğrulama verisinde öğrenme hatası düşmeyip düzenli olarak yükselmeye başladıysa (osilasyonlar hariç) bu noktada eğitim işlemi önceden planlanan epoch sayısı kadar devam etmeyebilir. \n",
        "\n",
        "[![image](https://i.hizliresim.com/bV0yqb.png)](https://hizliresim.com/bV0yqb)\n",
        "\n"
      ]
    },
    {
      "metadata": {
        "id": "DbbznhjbwdGR",
        "colab_type": "code",
        "outputId": "7f7dee30-0275-4b72-c0e6-730fce8c74fe",
        "colab": {
          "base_uri": "https://localhost:8080/",
          "height": 128
        }
      },
      "cell_type": "code",
      "source": [
        "# Google Colab Kimlik Doğrulama İşlemleri\n",
        "from google.colab import drive\n",
        "drive.mount('/content/drive/')"
      ],
      "execution_count": 1,
      "outputs": [
        {
          "output_type": "stream",
          "text": [
            "Go to this URL in a browser: https://accounts.google.com/o/oauth2/auth?client_id=947318989803-6bn6qk8qdgf4n4g3pfee6491hc0brc4i.apps.googleusercontent.com&redirect_uri=urn%3Aietf%3Awg%3Aoauth%3A2.0%3Aoob&scope=email%20https%3A%2F%2Fwww.googleapis.com%2Fauth%2Fdocs.test%20https%3A%2F%2Fwww.googleapis.com%2Fauth%2Fdrive%20https%3A%2F%2Fwww.googleapis.com%2Fauth%2Fdrive.photos.readonly%20https%3A%2F%2Fwww.googleapis.com%2Fauth%2Fpeopleapi.readonly&response_type=code\n",
            "\n",
            "Enter your authorization code:\n",
            "··········\n",
            "Mounted at /content/drive/\n"
          ],
          "name": "stdout"
        }
      ]
    },
    {
      "metadata": {
        "id": "YbkrqGzmEuB-",
        "colab_type": "code",
        "colab": {
          "base_uri": "https://localhost:8080/",
          "height": 35
        },
        "outputId": "0b4289e9-e4dd-41f4-f0a9-03fdee6a1299"
      },
      "cell_type": "code",
      "source": [
        "from __future__ import print_function\n",
        "import numpy as np\n",
        "import keras\n",
        "from keras.models import load_model\n",
        "from keras.models import Sequential\n",
        "from keras.layers import Dense, Dropout, Flatten\n",
        "from keras.callbacks import EarlyStopping, ModelCheckpoint\n",
        "from keras import backend as K"
      ],
      "execution_count": 5,
      "outputs": [
        {
          "output_type": "stream",
          "text": [
            "Using TensorFlow backend.\n"
          ],
          "name": "stderr"
        }
      ]
    },
    {
      "metadata": {
        "id": "pQua9TfHyGvr",
        "colab_type": "code",
        "outputId": "f2b6ac20-ba00-475f-d62c-35120873d7c2",
        "colab": {
          "base_uri": "https://localhost:8080/",
          "height": 361
        }
      },
      "cell_type": "code",
      "source": [
        "# İki sınıflı rastgele dağılımlı veri kümesi üretme (moons)\n",
        "from sklearn.datasets import make_moons\n",
        "from matplotlib import pyplot\n",
        "from pandas import DataFrame\n",
        "# veri setini 2 boyutlu düzlemde oluşurma, örnek sayısı, gürültü\n",
        "X, y = make_moons(n_samples=100, noise=0.2, random_state=1)\n",
        "# verilerin görselleştirilmesi\n",
        "df = DataFrame(dict(x=X[:,0], y=X[:,1], label=y))\n",
        "colors = {0:'orange', 1:'magenta'}\n",
        "fig, ax = pyplot.subplots()\n",
        "grouped = df.groupby('label')\n",
        "for key, group in grouped:\n",
        "    group.plot(ax=ax, kind='scatter', x='x', y='y', label=key, color=colors[key])\n",
        "pyplot.show()"
      ],
      "execution_count": 6,
      "outputs": [
        {
          "output_type": "display_data",
          "data": {
            "image/png": "[encoded data removed]",
            "text/plain": [
              "<Figure size 576x396 with 1 Axes>"
            ]
          },
          "metadata": {
            "tags": []
          }
        }
      ]
    },
    {
      "metadata": {
        "id": "BdmoFtgdyMof",
        "colab_type": "code",
        "colab": {}
      },
      "cell_type": "code",
      "source": [
        "# Veri kümesini eğitim ve test olarak iki parçaya ayırma\n",
        "n_train = 30\n",
        "trainX, testX = X[:n_train, :], X[n_train:, :]\n",
        "trainy, testy = y[:n_train], y[n_train:]"
      ],
      "execution_count": 0,
      "outputs": []
    },
    {
      "metadata": {
        "id": "W9eTRvwTyVHm",
        "colab_type": "code",
        "colab": {
          "base_uri": "https://localhost:8080/",
          "height": 92
        },
        "outputId": "46d55bbb-6d47-46f9-e2b3-b516dc5781da"
      },
      "cell_type": "code",
      "source": [
        "# Basit bir çok katmanlı sinir ağı (MLP) oluşturma\n",
        "model = Sequential()\n",
        "# 2 girişli 500 nöronlu gizli katman ve aktivasyon fonksiyonu ReLU\n",
        "model.add(Dense(500, input_dim=2, activation='relu'))\n",
        "# Çıkış katmanında tek nöron ve sigmoid fonksiyonu kullanılmaktadır\n",
        "model.add(Dense(1, activation='sigmoid'))\n",
        "# İkili çaprazentropi ile yitim değeri hesaplanıyor ve adam optimizasyonu ile hata minimize ediliyor. Başarım metriği olarak doğruluk kullanılıyor.\n",
        "model.compile(loss='binary_crossentropy', optimizer='adam', metrics=['accuracy'])"
      ],
      "execution_count": 8,
      "outputs": [
        {
          "output_type": "stream",
          "text": [
            "WARNING:tensorflow:From /usr/local/lib/python3.6/dist-packages/tensorflow/python/framework/op_def_library.py:263: colocate_with (from tensorflow.python.framework.ops) is deprecated and will be removed in a future version.\n",
            "Instructions for updating:\n",
            "Colocations handled automatically by placer.\n"
          ],
          "name": "stdout"
        }
      ]
    },
    {
      "metadata": {
        "id": "I9wxXpuN6hqW",
        "colab_type": "text"
      },
      "cell_type": "markdown",
      "source": [
        "**Oluşturulan sinir ağı modeli:** 2 girişli 500 nöronlu gizli katman ve aktivasyon fonksiyonu ReLU\n",
        "\n",
        "[![image](https://i.hizliresim.com/oXm0zX.png)](https://hizliresim.com/oXm0zX)"
      ]
    },
    {
      "metadata": {
        "id": "WTv8lGrayXgj",
        "colab_type": "code",
        "outputId": "c0846806-0e33-4ee6-c22d-933c5eb81edd",
        "colab": {
          "base_uri": "https://localhost:8080/",
          "height": 92
        }
      },
      "cell_type": "code",
      "source": [
        "# Modeli 4000 epoch için eğit\n",
        "history = model.fit(trainX, trainy, validation_data=(testX, testy), epochs=4000, verbose=0)\n"
      ],
      "execution_count": 9,
      "outputs": [
        {
          "output_type": "stream",
          "text": [
            "WARNING:tensorflow:From /usr/local/lib/python3.6/dist-packages/tensorflow/python/ops/math_ops.py:3066: to_int32 (from tensorflow.python.ops.math_ops) is deprecated and will be removed in a future version.\n",
            "Instructions for updating:\n",
            "Use tf.cast instead.\n"
          ],
          "name": "stdout"
        }
      ]
    },
    {
      "metadata": {
        "id": "KV6yOP3oy2h5",
        "colab_type": "code",
        "outputId": "e5a65581-826f-44f0-eff0-58becadf4e2e",
        "colab": {
          "base_uri": "https://localhost:8080/",
          "height": 35
        }
      },
      "cell_type": "code",
      "source": [
        "# Modelin eğitim ve test başarımlarını hesapla ve ekrana yazdır.\n",
        "_, train_acc = model.evaluate(trainX, trainy, verbose=0)\n",
        "_, test_acc = model.evaluate(testX, testy, verbose=0)\n",
        "print('Train: %.3f, Test: %.3f' % (train_acc, test_acc))"
      ],
      "execution_count": 10,
      "outputs": [
        {
          "output_type": "stream",
          "text": [
            "Train: 1.000, Test: 0.914\n"
          ],
          "name": "stdout"
        }
      ]
    },
    {
      "metadata": {
        "id": "pB6ldrfVy9Vw",
        "colab_type": "code",
        "outputId": "a6b8451f-1772-49d0-e260-0e530fc7b860",
        "colab": {
          "base_uri": "https://localhost:8080/",
          "height": 347
        }
      },
      "cell_type": "code",
      "source": [
        "# Eğitim değerli history değişkeninde tutulmuştu tüm epochlar için bunu ekrana çizdirme işlemi\n",
        "pyplot.plot(history.history['loss'], label='train')\n",
        "pyplot.plot(history.history['val_loss'], label='test')\n",
        "pyplot.legend()\n",
        "pyplot.show()"
      ],
      "execution_count": 11,
      "outputs": [
        {
          "output_type": "display_data",
          "data": {
            "image/png": "[encoded data removed]",
            "text/plain": [
              "<Figure size 576x396 with 1 Axes>"
            ]
          },
          "metadata": {
            "tags": []
          }
        }
      ]
    },
    {
      "metadata": {
        "id": "YxXwLo2c7mQJ",
        "colab_type": "text"
      },
      "cell_type": "markdown",
      "source": [
        "## Görünüyor ki ilk hatanın yükselmesi 200 civarındaki epoch ta bir de 750 civarlarındaki epochta gerçekleşiyor.\n",
        "\n",
        "Bunun önünde geçme için erken durdurma işlemi yapmamız gerekiyor. İstersek 200lerdeki kırılmada durmasını sağlayabiliriz ama daha sonrabir miktar daha hata azaldığı için sonraki kırılmaya gelmesini de sağlayabiliriz. \n",
        "\n",
        "O halde devam!\n",
        "\n",
        "[![image](https://i.hizliresim.com/16oV45.gif)](https://hizliresim.com/16oV45)"
      ]
    },
    {
      "metadata": {
        "id": "l9QpGuWdzWTZ",
        "colab_type": "code",
        "outputId": "7c403c5a-9fe0-4dff-d643-f908867c1be7",
        "colab": {
          "base_uri": "https://localhost:8080/",
          "height": 8638
        }
      },
      "cell_type": "code",
      "source": [
        "# MLP modelini tekrar oluştur ve bu kez içine erken durdurma adımını da ekle\n",
        "from sklearn.datasets import make_moons\n",
        "from keras.models import Sequential\n",
        "from keras.layers import Dense\n",
        "from keras.callbacks import EarlyStopping\n",
        "from matplotlib import pyplot\n",
        "# 2 boyutta veri setini oluşturma\n",
        "X, y = make_moons(n_samples=100, noise=0.2, random_state=1)\n",
        "# veri setini parçalara ayırma\n",
        "n_train = 30\n",
        "trainX, testX = X[:n_train, :], X[n_train:, :]\n",
        "trainy, testy = y[:n_train], y[n_train:]\n",
        "# Modeli tanımlama\n",
        "model = Sequential()\n",
        "model.add(Dense(500, input_dim=2, activation='relu'))\n",
        "model.add(Dense(1, activation='sigmoid'))\n",
        "model.compile(loss='binary_crossentropy', optimizer='adam', metrics=['accuracy'])\n",
        "\n",
        "\n",
        "# BASİT BİR ERKEN DURDURMA İŞLEMİ\n",
        "es = EarlyStopping(monitor='val_loss', mode='auto', verbose=1)\n",
        "# ERKEN DURDURMA SONUCU EN İYİ BAŞARIMIN MODEL BAŞARIMI OLARAK KAYDEDİLMESİ\n",
        "mc = ModelCheckpoint('best_model.h5', monitor='val_acc', mode='max', verbose=1, save_best_only=True)\n",
        "# Modeli erken durdurma ve en iyi başarımı kaydetme callback parametrelerini ekleyerek tekrar eğitme\n",
        "history = model.fit(trainX, trainy, validation_data=(testX, testy), epochs=4000, verbose=0, callbacks=[es, mc])\n",
        "# Test ve Eğitim başarılarının hesaplanması\n",
        "_, train_acc = model.evaluate(trainX, trainy, verbose=0)\n",
        "_, test_acc = model.evaluate(testX, testy, verbose=0)\n",
        "print('Train: %.3f, Test: %.3f' % (train_acc, test_acc))\n",
        "# Eğitim ve test sonuçlarının ekrana yazılması ve çizdirilmesi\n",
        "pyplot.plot(history.history['loss'], label='train')\n",
        "pyplot.plot(history.history['val_loss'], label='test')\n",
        "pyplot.legend()\n",
        "pyplot.show()\n"
      ],
      "execution_count": 17,
      "outputs": [
        {
          "output_type": "stream",
          "text": [
            "\n",
            "Epoch 00001: val_acc improved from -inf to 0.52857, saving model to best_model.h5\n",
            "\n",
            "Epoch 00002: val_acc improved from 0.52857 to 0.62857, saving model to best_model.h5\n",
            "\n",
            "Epoch 00003: val_acc improved from 0.62857 to 0.68571, saving model to best_model.h5\n",
            "\n",
            "Epoch 00004: val_acc did not improve from 0.68571\n",
            "\n",
            "Epoch 00005: val_acc did not improve from 0.68571\n",
            "\n",
            "Epoch 00006: val_acc did not improve from 0.68571\n",
            "\n",
            "Epoch 00007: val_acc did not improve from 0.68571\n",
            "\n",
            "Epoch 00008: val_acc did not improve from 0.68571\n",
            "\n",
            "Epoch 00009: val_acc did not improve from 0.68571\n",
            "\n",
            "Epoch 00010: val_acc did not improve from 0.68571\n",
            "\n",
            "Epoch 00011: val_acc improved from 0.68571 to 0.70000, saving model to best_model.h5\n",
            "\n",
            "Epoch 00012: val_acc improved from 0.70000 to 0.71429, saving model to best_model.h5\n",
            "\n",
            "Epoch 00013: val_acc did not improve from 0.71429\n",
            "\n",
            "Epoch 00014: val_acc did not improve from 0.71429\n",
            "\n",
            "Epoch 00015: val_acc did not improve from 0.71429\n",
            "\n",
            "Epoch 00016: val_acc did not improve from 0.71429\n",
            "\n",
            "Epoch 00017: val_acc did not improve from 0.71429\n",
            "\n",
            "Epoch 00018: val_acc did not improve from 0.71429\n",
            "\n",
            "Epoch 00019: val_acc did not improve from 0.71429\n",
            "\n",
            "Epoch 00020: val_acc did not improve from 0.71429\n",
            "\n",
            "Epoch 00021: val_acc did not improve from 0.71429\n",
            "\n",
            "Epoch 00022: val_acc did not improve from 0.71429\n",
            "\n",
            "Epoch 00023: val_acc did not improve from 0.71429\n",
            "\n",
            "Epoch 00024: val_acc did not improve from 0.71429\n",
            "\n",
            "Epoch 00025: val_acc did not improve from 0.71429\n",
            "\n",
            "Epoch 00026: val_acc did not improve from 0.71429\n",
            "\n",
            "Epoch 00027: val_acc did not improve from 0.71429\n",
            "\n",
            "Epoch 00028: val_acc did not improve from 0.71429\n",
            "\n",
            "Epoch 00029: val_acc did not improve from 0.71429\n",
            "\n",
            "Epoch 00030: val_acc did not improve from 0.71429\n",
            "\n",
            "Epoch 00031: val_acc did not improve from 0.71429\n",
            "\n",
            "Epoch 00032: val_acc did not improve from 0.71429\n",
            "\n",
            "Epoch 00033: val_acc improved from 0.71429 to 0.72857, saving model to best_model.h5\n",
            "\n",
            "Epoch 00034: val_acc did not improve from 0.72857\n",
            "\n",
            "Epoch 00035: val_acc did not improve from 0.72857\n",
            "\n",
            "Epoch 00036: val_acc did not improve from 0.72857\n",
            "\n",
            "Epoch 00037: val_acc did not improve from 0.72857\n",
            "\n",
            "Epoch 00038: val_acc did not improve from 0.72857\n",
            "\n",
            "Epoch 00039: val_acc did not improve from 0.72857\n",
            "\n",
            "Epoch 00040: val_acc did not improve from 0.72857\n",
            "\n",
            "Epoch 00041: val_acc did not improve from 0.72857\n",
            "\n",
            "Epoch 00042: val_acc did not improve from 0.72857\n",
            "\n",
            "Epoch 00043: val_acc did not improve from 0.72857\n",
            "\n",
            "Epoch 00044: val_acc did not improve from 0.72857\n",
            "\n",
            "Epoch 00045: val_acc did not improve from 0.72857\n",
            "\n",
            "Epoch 00046: val_acc did not improve from 0.72857\n",
            "\n",
            "Epoch 00047: val_acc did not improve from 0.72857\n",
            "\n",
            "Epoch 00048: val_acc did not improve from 0.72857\n",
            "\n",
            "Epoch 00049: val_acc did not improve from 0.72857\n",
            "\n",
            "Epoch 00050: val_acc did not improve from 0.72857\n",
            "\n",
            "Epoch 00051: val_acc did not improve from 0.72857\n",
            "\n",
            "Epoch 00052: val_acc did not improve from 0.72857\n",
            "\n",
            "Epoch 00053: val_acc did not improve from 0.72857\n",
            "\n",
            "Epoch 00054: val_acc did not improve from 0.72857\n",
            "\n",
            "Epoch 00055: val_acc did not improve from 0.72857\n",
            "\n",
            "Epoch 00056: val_acc did not improve from 0.72857\n",
            "\n",
            "Epoch 00057: val_acc did not improve from 0.72857\n",
            "\n",
            "Epoch 00058: val_acc did not improve from 0.72857\n",
            "\n",
            "Epoch 00059: val_acc did not improve from 0.72857\n",
            "\n",
            "Epoch 00060: val_acc did not improve from 0.72857\n",
            "\n",
            "Epoch 00061: val_acc did not improve from 0.72857\n",
            "\n",
            "Epoch 00062: val_acc did not improve from 0.72857\n",
            "\n",
            "Epoch 00063: val_acc did not improve from 0.72857\n",
            "\n",
            "Epoch 00064: val_acc did not improve from 0.72857\n",
            "\n",
            "Epoch 00065: val_acc improved from 0.72857 to 0.74286, saving model to best_model.h5\n",
            "\n",
            "Epoch 00066: val_acc did not improve from 0.74286\n",
            "\n",
            "Epoch 00067: val_acc did not improve from 0.74286\n",
            "\n",
            "Epoch 00068: val_acc did not improve from 0.74286\n",
            "\n",
            "Epoch 00069: val_acc did not improve from 0.74286\n",
            "\n",
            "Epoch 00070: val_acc did not improve from 0.74286\n",
            "\n",
            "Epoch 00071: val_acc did not improve from 0.74286\n",
            "\n",
            "Epoch 00072: val_acc did not improve from 0.74286\n",
            "\n",
            "Epoch 00073: val_acc did not improve from 0.74286\n",
            "\n",
            "Epoch 00074: val_acc did not improve from 0.74286\n",
            "\n",
            "Epoch 00075: val_acc did not improve from 0.74286\n",
            "\n",
            "Epoch 00076: val_acc did not improve from 0.74286\n",
            "\n",
            "Epoch 00077: val_acc did not improve from 0.74286\n",
            "\n",
            "Epoch 00078: val_acc did not improve from 0.74286\n",
            "\n",
            "Epoch 00079: val_acc did not improve from 0.74286\n",
            "\n",
            "Epoch 00080: val_acc did not improve from 0.74286\n",
            "\n",
            "Epoch 00081: val_acc did not improve from 0.74286\n",
            "\n",
            "Epoch 00082: val_acc did not improve from 0.74286\n",
            "\n",
            "Epoch 00083: val_acc did not improve from 0.74286\n",
            "\n",
            "Epoch 00084: val_acc did not improve from 0.74286\n",
            "\n",
            "Epoch 00085: val_acc did not improve from 0.74286\n",
            "\n",
            "Epoch 00086: val_acc did not improve from 0.74286\n",
            "\n",
            "Epoch 00087: val_acc did not improve from 0.74286\n",
            "\n",
            "Epoch 00088: val_acc did not improve from 0.74286\n",
            "\n",
            "Epoch 00089: val_acc did not improve from 0.74286\n",
            "\n",
            "Epoch 00090: val_acc did not improve from 0.74286\n",
            "\n",
            "Epoch 00091: val_acc did not improve from 0.74286\n",
            "\n",
            "Epoch 00092: val_acc did not improve from 0.74286\n",
            "\n",
            "Epoch 00093: val_acc did not improve from 0.74286\n",
            "\n",
            "Epoch 00094: val_acc did not improve from 0.74286\n",
            "\n",
            "Epoch 00095: val_acc did not improve from 0.74286\n",
            "\n",
            "Epoch 00096: val_acc did not improve from 0.74286\n",
            "\n",
            "Epoch 00097: val_acc did not improve from 0.74286\n",
            "\n",
            "Epoch 00098: val_acc did not improve from 0.74286\n",
            "\n",
            "Epoch 00099: val_acc did not improve from 0.74286\n",
            "\n",
            "Epoch 00100: val_acc did not improve from 0.74286\n",
            "\n",
            "Epoch 00101: val_acc did not improve from 0.74286\n",
            "\n",
            "Epoch 00102: val_acc did not improve from 0.74286\n",
            "\n",
            "Epoch 00103: val_acc did not improve from 0.74286\n",
            "\n",
            "Epoch 00104: val_acc did not improve from 0.74286\n",
            "\n",
            "Epoch 00105: val_acc did not improve from 0.74286\n",
            "\n",
            "Epoch 00106: val_acc did not improve from 0.74286\n",
            "\n",
            "Epoch 00107: val_acc did not improve from 0.74286\n",
            "\n",
            "Epoch 00108: val_acc did not improve from 0.74286\n",
            "\n",
            "Epoch 00109: val_acc did not improve from 0.74286\n",
            "\n",
            "Epoch 00110: val_acc did not improve from 0.74286\n",
            "\n",
            "Epoch 00111: val_acc did not improve from 0.74286\n",
            "\n",
            "Epoch 00112: val_acc improved from 0.74286 to 0.75714, saving model to best_model.h5\n",
            "\n",
            "Epoch 00113: val_acc did not improve from 0.75714\n",
            "\n",
            "Epoch 00114: val_acc did not improve from 0.75714\n",
            "\n",
            "Epoch 00115: val_acc did not improve from 0.75714\n",
            "\n",
            "Epoch 00116: val_acc did not improve from 0.75714\n",
            "\n",
            "Epoch 00117: val_acc did not improve from 0.75714\n",
            "\n",
            "Epoch 00118: val_acc did not improve from 0.75714\n",
            "\n",
            "Epoch 00119: val_acc improved from 0.75714 to 0.77143, saving model to best_model.h5\n",
            "\n",
            "Epoch 00120: val_acc did not improve from 0.77143\n",
            "\n",
            "Epoch 00121: val_acc did not improve from 0.77143\n",
            "\n",
            "Epoch 00122: val_acc did not improve from 0.77143\n",
            "\n",
            "Epoch 00123: val_acc improved from 0.77143 to 0.78571, saving model to best_model.h5\n",
            "\n",
            "Epoch 00124: val_acc did not improve from 0.78571\n",
            "\n",
            "Epoch 00125: val_acc improved from 0.78571 to 0.80000, saving model to best_model.h5\n",
            "\n",
            "Epoch 00126: val_acc did not improve from 0.80000\n",
            "\n",
            "Epoch 00127: val_acc did not improve from 0.80000\n",
            "\n",
            "Epoch 00128: val_acc improved from 0.80000 to 0.81429, saving model to best_model.h5\n",
            "\n",
            "Epoch 00129: val_acc did not improve from 0.81429\n",
            "\n",
            "Epoch 00130: val_acc did not improve from 0.81429\n",
            "\n",
            "Epoch 00131: val_acc did not improve from 0.81429\n",
            "\n",
            "Epoch 00132: val_acc did not improve from 0.81429\n",
            "\n",
            "Epoch 00133: val_acc did not improve from 0.81429\n",
            "\n",
            "Epoch 00134: val_acc did not improve from 0.81429\n",
            "\n",
            "Epoch 00135: val_acc did not improve from 0.81429\n",
            "\n",
            "Epoch 00136: val_acc did not improve from 0.81429\n",
            "\n",
            "Epoch 00137: val_acc did not improve from 0.81429\n",
            "\n",
            "Epoch 00138: val_acc did not improve from 0.81429\n",
            "\n",
            "Epoch 00139: val_acc did not improve from 0.81429\n",
            "\n",
            "Epoch 00140: val_acc did not improve from 0.81429\n",
            "\n",
            "Epoch 00141: val_acc did not improve from 0.81429\n",
            "\n",
            "Epoch 00142: val_acc did not improve from 0.81429\n",
            "\n",
            "Epoch 00143: val_acc did not improve from 0.81429\n",
            "\n",
            "Epoch 00144: val_acc did not improve from 0.81429\n",
            "\n",
            "Epoch 00145: val_acc improved from 0.81429 to 0.82857, saving model to best_model.h5\n",
            "\n",
            "Epoch 00146: val_acc did not improve from 0.82857\n",
            "\n",
            "Epoch 00147: val_acc did not improve from 0.82857\n",
            "\n",
            "Epoch 00148: val_acc did not improve from 0.82857\n",
            "\n",
            "Epoch 00149: val_acc did not improve from 0.82857\n",
            "\n",
            "Epoch 00150: val_acc did not improve from 0.82857\n",
            "\n",
            "Epoch 00151: val_acc did not improve from 0.82857\n",
            "\n",
            "Epoch 00152: val_acc did not improve from 0.82857\n",
            "\n",
            "Epoch 00153: val_acc did not improve from 0.82857\n",
            "\n",
            "Epoch 00154: val_acc did not improve from 0.82857\n",
            "\n",
            "Epoch 00155: val_acc did not improve from 0.82857\n",
            "\n",
            "Epoch 00156: val_acc did not improve from 0.82857\n",
            "\n",
            "Epoch 00157: val_acc did not improve from 0.82857\n",
            "\n",
            "Epoch 00158: val_acc did not improve from 0.82857\n",
            "\n",
            "Epoch 00159: val_acc did not improve from 0.82857\n",
            "\n",
            "Epoch 00160: val_acc did not improve from 0.82857\n",
            "\n",
            "Epoch 00161: val_acc did not improve from 0.82857\n",
            "\n",
            "Epoch 00162: val_acc did not improve from 0.82857\n",
            "\n",
            "Epoch 00163: val_acc did not improve from 0.82857\n",
            "\n",
            "Epoch 00164: val_acc did not improve from 0.82857\n",
            "\n",
            "Epoch 00165: val_acc did not improve from 0.82857\n",
            "\n",
            "Epoch 00166: val_acc did not improve from 0.82857\n",
            "\n",
            "Epoch 00167: val_acc did not improve from 0.82857\n",
            "\n",
            "Epoch 00168: val_acc did not improve from 0.82857\n",
            "\n",
            "Epoch 00169: val_acc did not improve from 0.82857\n",
            "\n",
            "Epoch 00170: val_acc did not improve from 0.82857\n",
            "\n",
            "Epoch 00171: val_acc did not improve from 0.82857\n",
            "\n",
            "Epoch 00172: val_acc did not improve from 0.82857\n",
            "\n",
            "Epoch 00173: val_acc did not improve from 0.82857\n",
            "\n",
            "Epoch 00174: val_acc did not improve from 0.82857\n",
            "\n",
            "Epoch 00175: val_acc did not improve from 0.82857\n",
            "\n",
            "Epoch 00176: val_acc did not improve from 0.82857\n",
            "\n",
            "Epoch 00177: val_acc did not improve from 0.82857\n",
            "\n",
            "Epoch 00178: val_acc did not improve from 0.82857\n",
            "\n",
            "Epoch 00179: val_acc did not improve from 0.82857\n",
            "\n",
            "Epoch 00180: val_acc did not improve from 0.82857\n",
            "\n",
            "Epoch 00181: val_acc did not improve from 0.82857\n",
            "\n",
            "Epoch 00182: val_acc did not improve from 0.82857\n",
            "\n",
            "Epoch 00183: val_acc did not improve from 0.82857\n",
            "\n",
            "Epoch 00184: val_acc did not improve from 0.82857\n",
            "\n",
            "Epoch 00185: val_acc did not improve from 0.82857\n",
            "\n",
            "Epoch 00186: val_acc did not improve from 0.82857\n",
            "\n",
            "Epoch 00187: val_acc did not improve from 0.82857\n",
            "\n",
            "Epoch 00188: val_acc did not improve from 0.82857\n",
            "\n",
            "Epoch 00189: val_acc did not improve from 0.82857\n",
            "\n",
            "Epoch 00190: val_acc did not improve from 0.82857\n",
            "\n",
            "Epoch 00191: val_acc did not improve from 0.82857\n",
            "\n",
            "Epoch 00192: val_acc did not improve from 0.82857\n",
            "\n",
            "Epoch 00193: val_acc did not improve from 0.82857\n",
            "\n",
            "Epoch 00194: val_acc did not improve from 0.82857\n",
            "\n",
            "Epoch 00195: val_acc did not improve from 0.82857\n",
            "\n",
            "Epoch 00196: val_acc did not improve from 0.82857\n",
            "\n",
            "Epoch 00197: val_acc did not improve from 0.82857\n",
            "\n",
            "Epoch 00198: val_acc did not improve from 0.82857\n",
            "\n",
            "Epoch 00199: val_acc did not improve from 0.82857\n",
            "\n",
            "Epoch 00200: val_acc did not improve from 0.82857\n",
            "\n",
            "Epoch 00201: val_acc did not improve from 0.82857\n",
            "\n",
            "Epoch 00202: val_acc did not improve from 0.82857\n",
            "\n",
            "Epoch 00203: val_acc did not improve from 0.82857\n",
            "\n",
            "Epoch 00204: val_acc did not improve from 0.82857\n",
            "\n",
            "Epoch 00205: val_acc did not improve from 0.82857\n",
            "\n",
            "Epoch 00206: val_acc did not improve from 0.82857\n",
            "\n",
            "Epoch 00207: val_acc did not improve from 0.82857\n",
            "\n",
            "Epoch 00208: val_acc did not improve from 0.82857\n",
            "\n",
            "Epoch 00209: val_acc did not improve from 0.82857\n",
            "\n",
            "Epoch 00210: val_acc did not improve from 0.82857\n",
            "\n",
            "Epoch 00211: val_acc did not improve from 0.82857\n",
            "\n",
            "Epoch 00212: val_acc did not improve from 0.82857\n",
            "\n",
            "Epoch 00213: val_acc did not improve from 0.82857\n",
            "\n",
            "Epoch 00214: val_acc did not improve from 0.82857\n",
            "\n",
            "Epoch 00215: val_acc did not improve from 0.82857\n",
            "\n",
            "Epoch 00216: val_acc did not improve from 0.82857\n",
            "\n",
            "Epoch 00217: val_acc did not improve from 0.82857\n",
            "\n",
            "Epoch 00218: val_acc did not improve from 0.82857\n",
            "\n",
            "Epoch 00219: val_acc did not improve from 0.82857\n",
            "\n",
            "Epoch 00220: val_acc did not improve from 0.82857\n",
            "\n",
            "Epoch 00221: val_acc did not improve from 0.82857\n",
            "\n",
            "Epoch 00222: val_acc did not improve from 0.82857\n",
            "\n",
            "Epoch 00223: val_acc did not improve from 0.82857\n",
            "\n",
            "Epoch 00224: val_acc did not improve from 0.82857\n",
            "\n",
            "Epoch 00225: val_acc did not improve from 0.82857\n",
            "\n",
            "Epoch 00226: val_acc did not improve from 0.82857\n",
            "\n",
            "Epoch 00227: val_acc did not improve from 0.82857\n",
            "Epoch 00227: early stopping\n",
            "Train: 0.967, Test: 0.814\n"
          ],
          "name": "stdout"
        },
        {
          "output_type": "display_data",
          "data": {
            "image/png": "[encoded data removed]",
            "text/plain": [
              "<Figure size 576x396 with 1 Axes>"
            ]
          },
          "metadata": {
            "tags": []
          }
        }
      ]
    },
    {
      "metadata": {
        "id": "qZ2-tudd9xBo",
        "colab_type": "text"
      },
      "cell_type": "markdown",
      "source": [
        "**ModelCheckpoint** fonksiyonunu kullanarak **erken durduma** ile birlikte modeli tekrar eğit ve en iyi model ağırlıklarını **best_model.h5** dosyasına kaydet."
      ]
    },
    {
      "metadata": {
        "id": "UKXH3yi2-nDo",
        "colab_type": "text"
      },
      "cell_type": "markdown",
      "source": [
        "### Modelimizin başarımını artırmak için bir küçük ayrıntıyı daha öğrendik :) \n",
        "\n",
        "![image](https://1.bp.blogspot.com/-N3AonYUI5lg/WpY8lQoFHdI/AAAAAAAAANo/AMxkSfGGB8QK5evTbu-jewH2ZuPmQMnIQCLcBGAs/s1600/giphy-downsized-large.gif)"
      ]
    }
  ]
}