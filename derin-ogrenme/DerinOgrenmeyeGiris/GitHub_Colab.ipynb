{
  "nbformat": 4,
  "nbformat_minor": 0,
  "metadata": {
    "colab": {
      "name": "GitHub_Colab.ipynb",
      "provenance": [],
      "collapsed_sections": []
    },
    "kernelspec": {
      "name": "python3",
      "display_name": "Python 3"
    },
    "accelerator": "GPU"
  },
  "cells": [
    {
      "cell_type": "markdown",
      "metadata": {
        "id": "jL-wRbgQpyNK"
      },
      "source": [
        "# **GitHub üzerindeki Repo ile Colab üzerinde nasıl çalışabilirim?**\n",
        "\n",
        "\n",
        "[<img align=\"right\" width=\"100\" height=\"100\" src=\"http://www.i2symbol.com/images/symbols/style-letters/circled_latin_capital_letter_a_u24B6_icon_128x128.png\">](https://www.ayyucekizrak.com/)\n",
        "\n",
        "---\n",
        "\n",
        "GitHub'ta bulunan bir repoyu olduğu gibi Google Colab üzerine basitçe taşıyabilir ve Colab üzerinde çalışmalarınızı sürdürebilirsiniz. [Derin Öğrenmeye Giriş](https://https://www.udemy.com/derin-ogrenmeye-giris/?couponCode=DEEPLEARNINGTR35) kursu için de bu şekilde yaptığınızda parça parça dosya indirmenize gerek kalmadan drive'ınızda çalışma ortamınızı yaratmış olursunuz!\n",
        "\n",
        "---\n",
        "Ayrıca Windows, IOS ya da Ubuntu için [GitHub'ın masaüstü uygulaması](https://https://desktop.github.com/)nı indirirseniz, otomatik olarak yapacağınız senkronizasyonlarla GitHub'ta yapılan değişiklikleri lokal bilgisayarınızda da güncel tutmanız mümkün olacaktır. \n",
        "\n",
        "---\n"
      ]
    },
    {
      "cell_type": "code",
      "metadata": {
        "id": "kmR9gM5jOmkV"
      },
      "source": [
        "!kill -9 -1"
      ],
      "execution_count": null,
      "outputs": []
    },
    {
      "cell_type": "code",
      "metadata": {
        "id": "YWmy2KRhPbP3",
        "colab": {
          "base_uri": "https://localhost:8080/",
          "height": 128
        },
        "outputId": "ed85def2-8537-4b21-c2b5-65d76a06de58"
      },
      "source": [
        "from google.colab import drive\n",
        "drive.mount('/gdrive/')"
      ],
      "execution_count": null,
      "outputs": [
        {
          "output_type": "stream",
          "text": [
            "Go to this URL in a browser: https://accounts.google.com/o/oauth2/auth?client_id=947318989803-6bn6qk8qdgf4n4g3pfee6491hc0brc4i.apps.googleusercontent.com&redirect_uri=urn%3Aietf%3Awg%3Aoauth%3A2.0%3Aoob&scope=email%20https%3A%2F%2Fwww.googleapis.com%2Fauth%2Fdocs.test%20https%3A%2F%2Fwww.googleapis.com%2Fauth%2Fdrive%20https%3A%2F%2Fwww.googleapis.com%2Fauth%2Fdrive.photos.readonly%20https%3A%2F%2Fwww.googleapis.com%2Fauth%2Fpeopleapi.readonly&response_type=code\n",
            "\n",
            "Enter your authorization code:\n",
            "··········\n",
            "Mounted at /content/drive/\n"
          ],
          "name": "stdout"
        }
      ]
    },
    {
      "cell_type": "code",
      "metadata": {
        "id": "15lBVs-qP2DD",
        "colab": {
          "base_uri": "https://localhost:8080/",
          "height": 35
        },
        "outputId": "3ff77af0-bc2d-4643-9f64-d41155e66376"
      },
      "source": [
        "!mkdir -p drive\n",
        "!google-drive-ocamlfuse drive"
      ],
      "execution_count": null,
      "outputs": [
        {
          "output_type": "stream",
          "text": [
            "/bin/bash: google-drive-ocamlfuse: command not found\n"
          ],
          "name": "stdout"
        }
      ]
    },
    {
      "cell_type": "code",
      "metadata": {
        "id": "mrHgNNb4QC-7"
      },
      "source": [
        "import os\n",
        "os.chdir(\"/gdrive/My Drive\")"
      ],
      "execution_count": null,
      "outputs": []
    },
    {
      "cell_type": "code",
      "metadata": {
        "id": "18Y89C-_QR95",
        "colab": {
          "base_uri": "https://localhost:8080/",
          "height": 163
        },
        "outputId": "6e62bd91-f746-4b08-b8c6-cc013602bff0"
      },
      "source": [
        "!git clone https://github.com/ayyucekizrak/Udemy_DerinOgrenmeyeGiris.git\n",
        "  "
      ],
      "execution_count": null,
      "outputs": [
        {
          "output_type": "stream",
          "text": [
            "Cloning into 'Udemy_DerinOgrenmeyeGiris'...\n",
            "remote: Enumerating objects: 3, done.\u001b[K\n",
            "remote: Counting objects: 100% (3/3), done.\u001b[K\n",
            "remote: Compressing objects: 100% (3/3), done.\u001b[K\n",
            "remote: Total 1699 (delta 0), reused 0 (delta 0), pack-reused 1696\u001b[K\n",
            "Receiving objects: 100% (1699/1699), 72.21 MiB | 20.06 MiB/s, done.\n",
            "Resolving deltas: 100% (963/963), done.\n",
            "Checking out files: 100% (146/146), done.\n"
          ],
          "name": "stdout"
        }
      ]
    }
  ]
}